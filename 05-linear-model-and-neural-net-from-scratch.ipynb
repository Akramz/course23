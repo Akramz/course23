{
 "cells": [
  {
   "cell_type": "markdown",
   "metadata": {},
   "source": [
    "## Introduction\n",
    "\n",
    "- The goal is to build and train a neural network from scratch using torch.\n",
    "- We'll be using Kaggle's [Titanic](https://www.kaggle.com/competitions/titanic/) competition dataset."
   ]
  },
  {
   "cell_type": "code",
   "execution_count": 121,
   "metadata": {},
   "outputs": [
    {
     "name": "stdout",
     "output_type": "stream",
     "text": [
      "The autoreload extension is already loaded. To reload it, use:\n",
      "  %reload_ext autoreload\n",
      "Automatic pdb calling has been turned ON\n"
     ]
    }
   ],
   "source": [
    "%load_ext autoreload\n",
    "%autoreload 2\n",
    "%pdb on"
   ]
  },
  {
   "cell_type": "code",
   "execution_count": 122,
   "metadata": {},
   "outputs": [],
   "source": [
    "import os\n",
    "import zipfile\n",
    "import jupyter_plz\n",
    "from pathlib import Path\n",
    "from IPython.core.debugger import set_trace"
   ]
  },
  {
   "cell_type": "code",
   "execution_count": 123,
   "metadata": {},
   "outputs": [],
   "source": [
    "import numpy as np\n",
    "import pandas as pd\n",
    "import matplotlib.pyplot as plt\n",
    "import sympy\n",
    "from sympy import log"
   ]
  },
  {
   "cell_type": "code",
   "execution_count": 224,
   "metadata": {},
   "outputs": [],
   "source": [
    "import torch\n",
    "import kaggle\n",
    "from torch import tensor\n",
    "import torch.nn.functional as F\n",
    "from fastai.data.transforms import RandomSplitter"
   ]
  },
  {
   "cell_type": "markdown",
   "metadata": {},
   "source": [
    "Let's start by downloading the dataset:"
   ]
  },
  {
   "cell_type": "code",
   "execution_count": 125,
   "metadata": {},
   "outputs": [],
   "source": [
    "datasets_path = Path(\"./datasets/\"); datasets_path.mkdir(exist_ok=True)\n",
    "dataset_path = datasets_path / \"titanic\"; dataset_path.mkdir(exist_ok=True)"
   ]
  },
  {
   "cell_type": "code",
   "execution_count": 126,
   "metadata": {},
   "outputs": [
    {
     "name": "stderr",
     "output_type": "stream",
     "text": [
      "2023-01-31 16:50:12,432 WARNING Retrying (Retry(total=2, connect=None, read=None, redirect=None, status=None)) after connection broken by 'ProtocolError('Connection aborted.', RemoteDisconnected('Remote end closed connection without response'))': /api/v1/competitions/data/download-all/titanic\n"
     ]
    },
    {
     "name": "stdout",
     "output_type": "stream",
     "text": [
      "Downloading titanic.zip to datasets/titanic\n"
     ]
    },
    {
     "name": "stderr",
     "output_type": "stream",
     "text": [
      "100%|████████████████████████████████████████████████████| 34.1k/34.1k [00:00<00:00, 2.78MB/s]"
     ]
    },
    {
     "name": "stdout",
     "output_type": "stream",
     "text": [
      "\n"
     ]
    },
    {
     "name": "stderr",
     "output_type": "stream",
     "text": [
      "\n"
     ]
    }
   ],
   "source": [
    "# Download the titanic dataset\n",
    "kaggle.api.competition_download_cli(dataset_path.name, path=dataset_path)\n",
    "\n",
    "# Extract it\n",
    "zipfile.ZipFile(dataset_path / f\"{dataset_path.stem}.zip\").extractall(dataset_path)\n",
    "\n",
    "# Remove the original zip file\n",
    "(dataset_path / \"titanic.zip\").unlink()"
   ]
  },
  {
   "cell_type": "markdown",
   "metadata": {
    "heading_collapsed": true
   },
   "source": [
    "## Cleaning the data"
   ]
  },
  {
   "cell_type": "markdown",
   "metadata": {
    "hidden": true
   },
   "source": [
    "- This is a *tabular data* competition. \n",
    "- It's provided as a Comma Separated Values (CSV) file. \n",
    "- We can open it using the *pandas* library, which will create a `DataFrame`."
   ]
  },
  {
   "cell_type": "code",
   "execution_count": 127,
   "metadata": {
    "execution": {
     "iopub.execute_input": "2022-05-30T22:34:17.899238Z",
     "iopub.status.busy": "2022-05-30T22:34:17.898249Z",
     "iopub.status.idle": "2022-05-30T22:34:17.932714Z",
     "shell.execute_reply": "2022-05-30T22:34:17.931738Z",
     "shell.execute_reply.started": "2022-05-30T22:34:17.899131Z"
    },
    "hidden": true,
    "scrolled": true
   },
   "outputs": [
    {
     "data": {
      "text/html": [
       "<div>\n",
       "<style scoped>\n",
       "    .dataframe tbody tr th:only-of-type {\n",
       "        vertical-align: middle;\n",
       "    }\n",
       "\n",
       "    .dataframe tbody tr th {\n",
       "        vertical-align: top;\n",
       "    }\n",
       "\n",
       "    .dataframe thead th {\n",
       "        text-align: right;\n",
       "    }\n",
       "</style>\n",
       "<table border=\"1\" class=\"dataframe\">\n",
       "  <thead>\n",
       "    <tr style=\"text-align: right;\">\n",
       "      <th></th>\n",
       "      <th>PassengerId</th>\n",
       "      <th>Survived</th>\n",
       "      <th>Pclass</th>\n",
       "      <th>Name</th>\n",
       "      <th>Sex</th>\n",
       "      <th>Age</th>\n",
       "      <th>SibSp</th>\n",
       "      <th>Parch</th>\n",
       "      <th>Ticket</th>\n",
       "      <th>Fare</th>\n",
       "      <th>Cabin</th>\n",
       "      <th>Embarked</th>\n",
       "    </tr>\n",
       "  </thead>\n",
       "  <tbody>\n",
       "    <tr>\n",
       "      <th>0</th>\n",
       "      <td>1</td>\n",
       "      <td>0</td>\n",
       "      <td>3</td>\n",
       "      <td>Braund, Mr. Owen Harris</td>\n",
       "      <td>male</td>\n",
       "      <td>22.0</td>\n",
       "      <td>1</td>\n",
       "      <td>0</td>\n",
       "      <td>A/5 21171</td>\n",
       "      <td>7.2500</td>\n",
       "      <td>NaN</td>\n",
       "      <td>S</td>\n",
       "    </tr>\n",
       "    <tr>\n",
       "      <th>1</th>\n",
       "      <td>2</td>\n",
       "      <td>1</td>\n",
       "      <td>1</td>\n",
       "      <td>Cumings, Mrs. John Bradley (Florence Briggs Th...</td>\n",
       "      <td>female</td>\n",
       "      <td>38.0</td>\n",
       "      <td>1</td>\n",
       "      <td>0</td>\n",
       "      <td>PC 17599</td>\n",
       "      <td>71.2833</td>\n",
       "      <td>C85</td>\n",
       "      <td>C</td>\n",
       "    </tr>\n",
       "    <tr>\n",
       "      <th>2</th>\n",
       "      <td>3</td>\n",
       "      <td>1</td>\n",
       "      <td>3</td>\n",
       "      <td>Heikkinen, Miss. Laina</td>\n",
       "      <td>female</td>\n",
       "      <td>26.0</td>\n",
       "      <td>0</td>\n",
       "      <td>0</td>\n",
       "      <td>STON/O2. 3101282</td>\n",
       "      <td>7.9250</td>\n",
       "      <td>NaN</td>\n",
       "      <td>S</td>\n",
       "    </tr>\n",
       "    <tr>\n",
       "      <th>3</th>\n",
       "      <td>4</td>\n",
       "      <td>1</td>\n",
       "      <td>1</td>\n",
       "      <td>Futrelle, Mrs. Jacques Heath (Lily May Peel)</td>\n",
       "      <td>female</td>\n",
       "      <td>35.0</td>\n",
       "      <td>1</td>\n",
       "      <td>0</td>\n",
       "      <td>113803</td>\n",
       "      <td>53.1000</td>\n",
       "      <td>C123</td>\n",
       "      <td>S</td>\n",
       "    </tr>\n",
       "    <tr>\n",
       "      <th>4</th>\n",
       "      <td>5</td>\n",
       "      <td>0</td>\n",
       "      <td>3</td>\n",
       "      <td>Allen, Mr. William Henry</td>\n",
       "      <td>male</td>\n",
       "      <td>35.0</td>\n",
       "      <td>0</td>\n",
       "      <td>0</td>\n",
       "      <td>373450</td>\n",
       "      <td>8.0500</td>\n",
       "      <td>NaN</td>\n",
       "      <td>S</td>\n",
       "    </tr>\n",
       "  </tbody>\n",
       "</table>\n",
       "</div>"
      ],
      "text/plain": [
       "   PassengerId  Survived  Pclass  \\\n",
       "0            1         0       3   \n",
       "1            2         1       1   \n",
       "2            3         1       3   \n",
       "3            4         1       1   \n",
       "4            5         0       3   \n",
       "\n",
       "                                                Name     Sex   Age  SibSp  \\\n",
       "0                            Braund, Mr. Owen Harris    male  22.0      1   \n",
       "1  Cumings, Mrs. John Bradley (Florence Briggs Th...  female  38.0      1   \n",
       "2                             Heikkinen, Miss. Laina  female  26.0      0   \n",
       "3       Futrelle, Mrs. Jacques Heath (Lily May Peel)  female  35.0      1   \n",
       "4                           Allen, Mr. William Henry    male  35.0      0   \n",
       "\n",
       "   Parch            Ticket     Fare Cabin Embarked  \n",
       "0      0         A/5 21171   7.2500   NaN        S  \n",
       "1      0          PC 17599  71.2833   C85        C  \n",
       "2      0  STON/O2. 3101282   7.9250   NaN        S  \n",
       "3      0            113803  53.1000  C123        S  \n",
       "4      0            373450   8.0500   NaN        S  "
      ]
     },
     "execution_count": 127,
     "metadata": {},
     "output_type": "execute_result"
    }
   ],
   "source": [
    "df = pd.read_csv(dataset_path / \"train.csv\")\n",
    "df.head()"
   ]
  },
  {
   "cell_type": "markdown",
   "metadata": {
    "hidden": true
   },
   "source": [
    "- We going to want to multiply each column by some coefficients. \n",
    "- We can see in the `Cabin` column that there are `NaN` values, which is how Pandas refers to missing values. \n",
    "- We can't multiply something by a missing value!\n",
    "\n",
    "Let's check which columns contain `NaN` values. Pandas' `isna()` function returns `True` (which is treated as `1` when used as a number) for `NaN` values, so we can just add them up for each column:"
   ]
  },
  {
   "cell_type": "code",
   "execution_count": 128,
   "metadata": {
    "execution": {
     "iopub.execute_input": "2022-05-30T22:34:17.955557Z",
     "iopub.status.busy": "2022-05-30T22:34:17.95524Z",
     "iopub.status.idle": "2022-05-30T22:34:17.966199Z",
     "shell.execute_reply": "2022-05-30T22:34:17.96534Z",
     "shell.execute_reply.started": "2022-05-30T22:34:17.955525Z"
    },
    "hidden": true
   },
   "outputs": [
    {
     "data": {
      "text/plain": [
       "PassengerId      0\n",
       "Survived         0\n",
       "Pclass           0\n",
       "Name             0\n",
       "Sex              0\n",
       "Age            177\n",
       "SibSp            0\n",
       "Parch            0\n",
       "Ticket           0\n",
       "Fare             0\n",
       "Cabin          687\n",
       "Embarked         2\n",
       "dtype: int64"
      ]
     },
     "execution_count": 128,
     "metadata": {},
     "output_type": "execute_result"
    }
   ],
   "source": [
    "# We are aggregating all rows -> means column wise nan-sum aggregation \n",
    "df.isna().sum(0)"
   ]
  },
  {
   "cell_type": "markdown",
   "metadata": {
    "hidden": true
   },
   "source": [
    "- By default *Pandas* sums over columns.\n",
    "- We'll need to replace the missing values with something.\n",
    "- Generally, it doesn't matter what we chose as a value for replacing.\n",
    "- We'll use the most common value (the *mode*)."
   ]
  },
  {
   "cell_type": "code",
   "execution_count": 129,
   "metadata": {
    "execution": {
     "iopub.execute_input": "2022-05-30T22:34:18.012387Z",
     "iopub.status.busy": "2022-05-30T22:34:18.011876Z",
     "iopub.status.idle": "2022-05-30T22:34:18.030165Z",
     "shell.execute_reply": "2022-05-30T22:34:18.029316Z",
     "shell.execute_reply.started": "2022-05-30T22:34:18.012338Z"
    },
    "hidden": true
   },
   "outputs": [
    {
     "data": {
      "text/plain": [
       "PassengerId                      1\n",
       "Survived                       0.0\n",
       "Pclass                         3.0\n",
       "Name           Abbing, Mr. Anthony\n",
       "Sex                           male\n",
       "Age                           24.0\n",
       "SibSp                          0.0\n",
       "Parch                          0.0\n",
       "Ticket                        1601\n",
       "Fare                          8.05\n",
       "Cabin                      B96 B98\n",
       "Embarked                         S\n",
       "Name: 0, dtype: object"
      ]
     },
     "execution_count": 129,
     "metadata": {},
     "output_type": "execute_result"
    }
   ],
   "source": [
    "modes = df.mode().iloc[0]\n",
    "modes"
   ]
  },
  {
   "cell_type": "markdown",
   "metadata": {
    "hidden": true
   },
   "source": [
    "Now that we've got the mode of each column, we can use *fillna* to replace the missing values with the mode of each column."
   ]
  },
  {
   "cell_type": "code",
   "execution_count": 130,
   "metadata": {},
   "outputs": [],
   "source": [
    "df = df.fillna(modes)"
   ]
  },
  {
   "cell_type": "markdown",
   "metadata": {},
   "source": [
    "Let's verify the state of missing data:"
   ]
  },
  {
   "cell_type": "code",
   "execution_count": 131,
   "metadata": {},
   "outputs": [
    {
     "data": {
      "text/plain": [
       "PassengerId    0\n",
       "Survived       0\n",
       "Pclass         0\n",
       "Name           0\n",
       "Sex            0\n",
       "Age            0\n",
       "SibSp          0\n",
       "Parch          0\n",
       "Ticket         0\n",
       "Fare           0\n",
       "Cabin          0\n",
       "Embarked       0\n",
       "dtype: int64"
      ]
     },
     "execution_count": 131,
     "metadata": {},
     "output_type": "execute_result"
    }
   ],
   "source": [
    "df.isna().sum()"
   ]
  },
  {
   "cell_type": "markdown",
   "metadata": {},
   "source": [
    "Let's get a summary of all the numeric columns in the dataset:"
   ]
  },
  {
   "cell_type": "code",
   "execution_count": 132,
   "metadata": {},
   "outputs": [
    {
     "data": {
      "text/html": [
       "<div>\n",
       "<style scoped>\n",
       "    .dataframe tbody tr th:only-of-type {\n",
       "        vertical-align: middle;\n",
       "    }\n",
       "\n",
       "    .dataframe tbody tr th {\n",
       "        vertical-align: top;\n",
       "    }\n",
       "\n",
       "    .dataframe thead th {\n",
       "        text-align: right;\n",
       "    }\n",
       "</style>\n",
       "<table border=\"1\" class=\"dataframe\">\n",
       "  <thead>\n",
       "    <tr style=\"text-align: right;\">\n",
       "      <th></th>\n",
       "      <th>PassengerId</th>\n",
       "      <th>Survived</th>\n",
       "      <th>Pclass</th>\n",
       "      <th>Age</th>\n",
       "      <th>SibSp</th>\n",
       "      <th>Parch</th>\n",
       "      <th>Fare</th>\n",
       "    </tr>\n",
       "  </thead>\n",
       "  <tbody>\n",
       "    <tr>\n",
       "      <th>count</th>\n",
       "      <td>891.000000</td>\n",
       "      <td>891.000000</td>\n",
       "      <td>891.000000</td>\n",
       "      <td>891.000000</td>\n",
       "      <td>891.000000</td>\n",
       "      <td>891.000000</td>\n",
       "      <td>891.000000</td>\n",
       "    </tr>\n",
       "    <tr>\n",
       "      <th>mean</th>\n",
       "      <td>446.000000</td>\n",
       "      <td>0.383838</td>\n",
       "      <td>2.308642</td>\n",
       "      <td>28.566970</td>\n",
       "      <td>0.523008</td>\n",
       "      <td>0.381594</td>\n",
       "      <td>32.204208</td>\n",
       "    </tr>\n",
       "    <tr>\n",
       "      <th>std</th>\n",
       "      <td>257.353842</td>\n",
       "      <td>0.486592</td>\n",
       "      <td>0.836071</td>\n",
       "      <td>13.199572</td>\n",
       "      <td>1.102743</td>\n",
       "      <td>0.806057</td>\n",
       "      <td>49.693429</td>\n",
       "    </tr>\n",
       "    <tr>\n",
       "      <th>min</th>\n",
       "      <td>1.000000</td>\n",
       "      <td>0.000000</td>\n",
       "      <td>1.000000</td>\n",
       "      <td>0.420000</td>\n",
       "      <td>0.000000</td>\n",
       "      <td>0.000000</td>\n",
       "      <td>0.000000</td>\n",
       "    </tr>\n",
       "    <tr>\n",
       "      <th>25%</th>\n",
       "      <td>223.500000</td>\n",
       "      <td>0.000000</td>\n",
       "      <td>2.000000</td>\n",
       "      <td>22.000000</td>\n",
       "      <td>0.000000</td>\n",
       "      <td>0.000000</td>\n",
       "      <td>7.910400</td>\n",
       "    </tr>\n",
       "    <tr>\n",
       "      <th>50%</th>\n",
       "      <td>446.000000</td>\n",
       "      <td>0.000000</td>\n",
       "      <td>3.000000</td>\n",
       "      <td>24.000000</td>\n",
       "      <td>0.000000</td>\n",
       "      <td>0.000000</td>\n",
       "      <td>14.454200</td>\n",
       "    </tr>\n",
       "    <tr>\n",
       "      <th>75%</th>\n",
       "      <td>668.500000</td>\n",
       "      <td>1.000000</td>\n",
       "      <td>3.000000</td>\n",
       "      <td>35.000000</td>\n",
       "      <td>1.000000</td>\n",
       "      <td>0.000000</td>\n",
       "      <td>31.000000</td>\n",
       "    </tr>\n",
       "    <tr>\n",
       "      <th>max</th>\n",
       "      <td>891.000000</td>\n",
       "      <td>1.000000</td>\n",
       "      <td>3.000000</td>\n",
       "      <td>80.000000</td>\n",
       "      <td>8.000000</td>\n",
       "      <td>6.000000</td>\n",
       "      <td>512.329200</td>\n",
       "    </tr>\n",
       "  </tbody>\n",
       "</table>\n",
       "</div>"
      ],
      "text/plain": [
       "       PassengerId    Survived      Pclass         Age       SibSp  \\\n",
       "count   891.000000  891.000000  891.000000  891.000000  891.000000   \n",
       "mean    446.000000    0.383838    2.308642   28.566970    0.523008   \n",
       "std     257.353842    0.486592    0.836071   13.199572    1.102743   \n",
       "min       1.000000    0.000000    1.000000    0.420000    0.000000   \n",
       "25%     223.500000    0.000000    2.000000   22.000000    0.000000   \n",
       "50%     446.000000    0.000000    3.000000   24.000000    0.000000   \n",
       "75%     668.500000    1.000000    3.000000   35.000000    1.000000   \n",
       "max     891.000000    1.000000    3.000000   80.000000    8.000000   \n",
       "\n",
       "            Parch        Fare  \n",
       "count  891.000000  891.000000  \n",
       "mean     0.381594   32.204208  \n",
       "std      0.806057   49.693429  \n",
       "min      0.000000    0.000000  \n",
       "25%      0.000000    7.910400  \n",
       "50%      0.000000   14.454200  \n",
       "75%      0.000000   31.000000  \n",
       "max      6.000000  512.329200  "
      ]
     },
     "execution_count": 132,
     "metadata": {},
     "output_type": "execute_result"
    }
   ],
   "source": [
    "df.describe(include=(np.number))"
   ]
  },
  {
   "cell_type": "markdown",
   "metadata": {},
   "source": [
    "- We can see that *Fare* contains mainly values of around *0* to *30*, but there's a few really big ones.\n",
    "- This is very common with fields that contain monetary values and it can cause problems for our model while learning.\n",
    "- *Problem*: the few rows with very big values will get huge once multiplied with the coefficient.\n",
    "\n",
    "Let's visualize this long-tail phenomenon:"
   ]
  },
  {
   "cell_type": "code",
   "execution_count": 133,
   "metadata": {},
   "outputs": [
    {
     "data": {
      "image/png": "[encoded data removed]",
      "text/plain": [
       "<Figure size 640x480 with 1 Axes>"
      ]
     },
     "metadata": {},
     "output_type": "display_data"
    }
   ],
   "source": [
    "_ = df[\"Fare\"].hist(bins=100)"
   ]
  },
  {
   "cell_type": "markdown",
   "metadata": {},
   "source": [
    "The most common approach is to apply the logarithm function on the values. Let's visualize the effect of the logarithm function on the feature range *(0, 500)*:"
   ]
  },
  {
   "cell_type": "code",
   "execution_count": 134,
   "metadata": {},
   "outputs": [
    {
     "data": {
      "image/png": "[encoded data removed]",
      "text/plain": [
       "<Figure size 640x480 with 1 Axes>"
      ]
     },
     "metadata": {},
     "output_type": "display_data"
    }
   ],
   "source": [
    "# Visualize the function\n",
    "x = sympy.symbols('x')\n",
    "_ = sympy.plot(log(x), (x, 1, 500))\n",
    "plt.show()"
   ]
  },
  {
   "cell_type": "markdown",
   "metadata": {},
   "source": [
    "The logarithm function effectively compresses the initial range to a manageable one *(0, 6)*.\n",
    "\n",
    "Let's apply the technique on our *Fare* feature:"
   ]
  },
  {
   "cell_type": "code",
   "execution_count": 135,
   "metadata": {},
   "outputs": [],
   "source": [
    "df[\"LogFare\"] = np.log(df[\"Fare\"] + 1)"
   ]
  },
  {
   "cell_type": "code",
   "execution_count": 136,
   "metadata": {},
   "outputs": [
    {
     "data": {
      "image/png": "[encoded data removed]",
      "text/plain": [
       "<Figure size 640x480 with 1 Axes>"
      ]
     },
     "metadata": {},
     "output_type": "display_data"
    }
   ],
   "source": [
    "# Visualize again\n",
    "# A range that is more manageable by most ML algorithms\n",
    "_ = df[\"LogFare\"].hist(bins=100)"
   ]
  },
  {
   "cell_type": "markdown",
   "metadata": {},
   "source": [
    "Next is the *pclass* feature. Let's confirm that it only contains three numerical values (we hence can consider it to be a categorical feature):"
   ]
  },
  {
   "cell_type": "code",
   "execution_count": 137,
   "metadata": {},
   "outputs": [
    {
     "data": {
      "text/plain": [
       "3    491\n",
       "1    216\n",
       "2    184\n",
       "Name: Pclass, dtype: int64"
      ]
     },
     "execution_count": 137,
     "metadata": {},
     "output_type": "execute_result"
    }
   ],
   "source": [
    "df[\"Pclass\"].value_counts()"
   ]
  },
  {
   "cell_type": "markdown",
   "metadata": {},
   "source": [
    "Let's describe the non-numeric features:"
   ]
  },
  {
   "cell_type": "code",
   "execution_count": 138,
   "metadata": {},
   "outputs": [
    {
     "data": {
      "text/html": [
       "<div>\n",
       "<style scoped>\n",
       "    .dataframe tbody tr th:only-of-type {\n",
       "        vertical-align: middle;\n",
       "    }\n",
       "\n",
       "    .dataframe tbody tr th {\n",
       "        vertical-align: top;\n",
       "    }\n",
       "\n",
       "    .dataframe thead th {\n",
       "        text-align: right;\n",
       "    }\n",
       "</style>\n",
       "<table border=\"1\" class=\"dataframe\">\n",
       "  <thead>\n",
       "    <tr style=\"text-align: right;\">\n",
       "      <th></th>\n",
       "      <th>Name</th>\n",
       "      <th>Sex</th>\n",
       "      <th>Ticket</th>\n",
       "      <th>Cabin</th>\n",
       "      <th>Embarked</th>\n",
       "    </tr>\n",
       "  </thead>\n",
       "  <tbody>\n",
       "    <tr>\n",
       "      <th>count</th>\n",
       "      <td>891</td>\n",
       "      <td>891</td>\n",
       "      <td>891</td>\n",
       "      <td>891</td>\n",
       "      <td>891</td>\n",
       "    </tr>\n",
       "    <tr>\n",
       "      <th>unique</th>\n",
       "      <td>891</td>\n",
       "      <td>2</td>\n",
       "      <td>681</td>\n",
       "      <td>147</td>\n",
       "      <td>3</td>\n",
       "    </tr>\n",
       "    <tr>\n",
       "      <th>top</th>\n",
       "      <td>Braund, Mr. Owen Harris</td>\n",
       "      <td>male</td>\n",
       "      <td>347082</td>\n",
       "      <td>B96 B98</td>\n",
       "      <td>S</td>\n",
       "    </tr>\n",
       "    <tr>\n",
       "      <th>freq</th>\n",
       "      <td>1</td>\n",
       "      <td>577</td>\n",
       "      <td>7</td>\n",
       "      <td>691</td>\n",
       "      <td>646</td>\n",
       "    </tr>\n",
       "  </tbody>\n",
       "</table>\n",
       "</div>"
      ],
      "text/plain": [
       "                           Name   Sex  Ticket    Cabin Embarked\n",
       "count                       891   891     891      891      891\n",
       "unique                      891     2     681      147        3\n",
       "top     Braund, Mr. Owen Harris  male  347082  B96 B98        S\n",
       "freq                          1   577       7      691      646"
      ]
     },
     "execution_count": 138,
     "metadata": {},
     "output_type": "execute_result"
    }
   ],
   "source": [
    "df.describe(include=[object])"
   ]
  },
  {
   "cell_type": "markdown",
   "metadata": {},
   "source": [
    "The problem with categorical features is that we can't multiply their values with coefficients or parameters. \n",
    "\n",
    "The solution is to first turn them into dummy variables (binary) then drop the original ones:"
   ]
  },
  {
   "cell_type": "code",
   "execution_count": 139,
   "metadata": {},
   "outputs": [
    {
     "data": {
      "text/plain": [
       "Index(['PassengerId', 'Survived', 'Name', 'Age', 'SibSp', 'Parch', 'Ticket',\n",
       "       'Fare', 'Cabin', 'LogFare', 'Sex_female', 'Sex_male', 'Pclass_1',\n",
       "       'Pclass_2', 'Pclass_3', 'Embarked_C', 'Embarked_Q', 'Embarked_S'],\n",
       "      dtype='object')"
      ]
     },
     "execution_count": 139,
     "metadata": {},
     "output_type": "execute_result"
    }
   ],
   "source": [
    "df = pd.get_dummies(df, columns=[\"Sex\", \"Pclass\", \"Embarked\"])\n",
    "df.columns"
   ]
  },
  {
   "cell_type": "markdown",
   "metadata": {},
   "source": [
    "Let's check out the columns that have been added:"
   ]
  },
  {
   "cell_type": "code",
   "execution_count": 140,
   "metadata": {
    "execution": {
     "iopub.execute_input": "2022-05-30T22:34:18.916456Z",
     "iopub.status.busy": "2022-05-30T22:34:18.916186Z",
     "iopub.status.idle": "2022-05-30T22:34:18.933746Z",
     "shell.execute_reply": "2022-05-30T22:34:18.933135Z",
     "shell.execute_reply.started": "2022-05-30T22:34:18.916426Z"
    },
    "hidden": true
   },
   "outputs": [
    {
     "data": {
      "text/html": [
       "<div>\n",
       "<style scoped>\n",
       "    .dataframe tbody tr th:only-of-type {\n",
       "        vertical-align: middle;\n",
       "    }\n",
       "\n",
       "    .dataframe tbody tr th {\n",
       "        vertical-align: top;\n",
       "    }\n",
       "\n",
       "    .dataframe thead th {\n",
       "        text-align: right;\n",
       "    }\n",
       "</style>\n",
       "<table border=\"1\" class=\"dataframe\">\n",
       "  <thead>\n",
       "    <tr style=\"text-align: right;\">\n",
       "      <th></th>\n",
       "      <th>Sex_male</th>\n",
       "      <th>Sex_female</th>\n",
       "      <th>Pclass_1</th>\n",
       "      <th>Pclass_2</th>\n",
       "      <th>Pclass_3</th>\n",
       "      <th>Embarked_C</th>\n",
       "      <th>Embarked_Q</th>\n",
       "      <th>Embarked_S</th>\n",
       "    </tr>\n",
       "  </thead>\n",
       "  <tbody>\n",
       "    <tr>\n",
       "      <th>0</th>\n",
       "      <td>1</td>\n",
       "      <td>0</td>\n",
       "      <td>0</td>\n",
       "      <td>0</td>\n",
       "      <td>1</td>\n",
       "      <td>0</td>\n",
       "      <td>0</td>\n",
       "      <td>1</td>\n",
       "    </tr>\n",
       "    <tr>\n",
       "      <th>1</th>\n",
       "      <td>0</td>\n",
       "      <td>1</td>\n",
       "      <td>1</td>\n",
       "      <td>0</td>\n",
       "      <td>0</td>\n",
       "      <td>1</td>\n",
       "      <td>0</td>\n",
       "      <td>0</td>\n",
       "    </tr>\n",
       "    <tr>\n",
       "      <th>2</th>\n",
       "      <td>0</td>\n",
       "      <td>1</td>\n",
       "      <td>0</td>\n",
       "      <td>0</td>\n",
       "      <td>1</td>\n",
       "      <td>0</td>\n",
       "      <td>0</td>\n",
       "      <td>1</td>\n",
       "    </tr>\n",
       "    <tr>\n",
       "      <th>3</th>\n",
       "      <td>0</td>\n",
       "      <td>1</td>\n",
       "      <td>1</td>\n",
       "      <td>0</td>\n",
       "      <td>0</td>\n",
       "      <td>0</td>\n",
       "      <td>0</td>\n",
       "      <td>1</td>\n",
       "    </tr>\n",
       "    <tr>\n",
       "      <th>4</th>\n",
       "      <td>1</td>\n",
       "      <td>0</td>\n",
       "      <td>0</td>\n",
       "      <td>0</td>\n",
       "      <td>1</td>\n",
       "      <td>0</td>\n",
       "      <td>0</td>\n",
       "      <td>1</td>\n",
       "    </tr>\n",
       "  </tbody>\n",
       "</table>\n",
       "</div>"
      ],
      "text/plain": [
       "   Sex_male  Sex_female  Pclass_1  Pclass_2  Pclass_3  Embarked_C  Embarked_Q  \\\n",
       "0         1           0         0         0         1           0           0   \n",
       "1         0           1         1         0         0           1           0   \n",
       "2         0           1         0         0         1           0           0   \n",
       "3         0           1         1         0         0           0           0   \n",
       "4         1           0         0         0         1           0           0   \n",
       "\n",
       "   Embarked_S  \n",
       "0           1  \n",
       "1           0  \n",
       "2           1  \n",
       "3           1  \n",
       "4           1  "
      ]
     },
     "execution_count": 140,
     "metadata": {},
     "output_type": "execute_result"
    }
   ],
   "source": [
    "added_cols = ['Sex_male', 'Sex_female', \n",
    "              'Pclass_1', 'Pclass_2', 'Pclass_3', \n",
    "              'Embarked_C', 'Embarked_Q', 'Embarked_S']\n",
    "df[added_cols].head()"
   ]
  },
  {
   "cell_type": "markdown",
   "metadata": {},
   "source": [
    "Let's create our independent (predictors) and dependent (targe) variables.\n",
    "\n",
    "We will represent both as Torch tensors. \n",
    "\n",
    "Our dependent variable is *Survived*\""
   ]
  },
  {
   "cell_type": "code",
   "execution_count": 141,
   "metadata": {},
   "outputs": [
    {
     "data": {
      "text/plain": [
       "torch.Size([891])"
      ]
     },
     "execution_count": 141,
     "metadata": {},
     "output_type": "execute_result"
    }
   ],
   "source": [
    "y = tensor(df[\"Survived\"])\n",
    "y.shape"
   ]
  },
  {
   "cell_type": "markdown",
   "metadata": {},
   "source": [
    "Our independent variables are all the continuous variables plus the dummy binary variables:"
   ]
  },
  {
   "cell_type": "code",
   "execution_count": 142,
   "metadata": {},
   "outputs": [
    {
     "data": {
      "text/plain": [
       "12"
      ]
     },
     "execution_count": 142,
     "metadata": {},
     "output_type": "execute_result"
    }
   ],
   "source": [
    "indep_cols = [\"Age\", \"SibSp\", \"Parch\", \"LogFare\"] + added_cols\n",
    "len(indep_cols)"
   ]
  },
  {
   "cell_type": "code",
   "execution_count": 143,
   "metadata": {},
   "outputs": [
    {
     "data": {
      "text/plain": [
       "torch.Size([891, 12])"
      ]
     },
     "execution_count": 143,
     "metadata": {},
     "output_type": "execute_result"
    }
   ],
   "source": [
    "X = tensor(df[indep_cols].values, dtype=torch.float)\n",
    "X.shape"
   ]
  },
  {
   "cell_type": "markdown",
   "metadata": {},
   "source": [
    "## Setting up a linear model\n",
    "\n",
    "- We have prepared our input to output tensors.\n",
    "- We can now work on calculating our predictions and loss.\n",
    "- We will start with constructing a single step towards minimizing the loss.\n",
    "- Our first model will be a simple linear model.\n",
    "- We'll need a *W_i* for each column.\n",
    "- We'll initialize the parameters randomly in the range *(-.5, +.5)*. \n",
    "- We will set our manual random seed to ganrantee reproducibility."
   ]
  },
  {
   "cell_type": "code",
   "execution_count": 144,
   "metadata": {},
   "outputs": [
    {
     "data": {
      "text/plain": [
       "torch.Size([891, 12])"
      ]
     },
     "execution_count": 144,
     "metadata": {},
     "output_type": "execute_result"
    }
   ],
   "source": [
    "X.shape"
   ]
  },
  {
   "cell_type": "code",
   "execution_count": 145,
   "metadata": {},
   "outputs": [
    {
     "data": {
      "text/plain": [
       "torch.Size([12])"
      ]
     },
     "execution_count": 145,
     "metadata": {},
     "output_type": "execute_result"
    }
   ],
   "source": [
    "torch.manual_seed(442)\n",
    "\n",
    "# Get the number of features to construct *W*\n",
    "features = X.shape[1]\n",
    "\n",
    "# Init the parameter matrix uniformely in (-.5,+.5)\n",
    "W = torch.rand(features) - .5\n",
    "W.shape"
   ]
  },
  {
   "cell_type": "markdown",
   "metadata": {},
   "source": [
    "Prediction is done like this:"
   ]
  },
  {
   "cell_type": "code",
   "execution_count": 146,
   "metadata": {},
   "outputs": [
    {
     "data": {
      "text/plain": [
       "(torch.Size([891, 12]), torch.Size([12]))"
      ]
     },
     "execution_count": 146,
     "metadata": {},
     "output_type": "execute_result"
    }
   ],
   "source": [
    "X.shape, W.shape"
   ]
  },
  {
   "cell_type": "code",
   "execution_count": 147,
   "metadata": {},
   "outputs": [
    {
     "data": {
      "text/plain": [
       "tensor([[-10.1838,   0.1386,   0.0000,  ...,  -0.0000,   0.0000,   0.3625],\n",
       "        [-17.5902,   0.1386,   0.0000,  ...,  -0.4392,   0.0000,   0.0000],\n",
       "        [-12.0354,   0.0000,   0.0000,  ...,  -0.0000,   0.0000,   0.3625],\n",
       "        ...,\n",
       "        [-11.1096,   0.1386,   0.4818,  ...,  -0.0000,   0.0000,   0.3625],\n",
       "        [-12.0354,   0.0000,   0.0000,  ...,  -0.4392,   0.0000,   0.0000],\n",
       "        [-14.8128,   0.0000,   0.0000,  ...,  -0.0000,   0.2103,   0.0000]])"
      ]
     },
     "execution_count": 147,
     "metadata": {},
     "output_type": "execute_result"
    }
   ],
   "source": [
    "X*W"
   ]
  },
  {
   "cell_type": "markdown",
   "metadata": {},
   "source": [
    "The sums of each row will be dominated by the first column (*age*), since it's range is bigger on average than all the others.\n",
    "\n",
    "Let's make all the columns contain numbers from *0* to *1* by dividing each column by its *max()*:"
   ]
  },
  {
   "cell_type": "code",
   "execution_count": 148,
   "metadata": {},
   "outputs": [],
   "source": [
    "maxes, _ = X.max(dim=0)\n",
    "X = X / maxes"
   ]
  },
  {
   "cell_type": "markdown",
   "metadata": {},
   "source": [
    "As we see, that removes the problem of one column dominating all the others:"
   ]
  },
  {
   "cell_type": "code",
   "execution_count": 149,
   "metadata": {
    "execution": {
     "iopub.execute_input": "2022-05-30T22:34:19.04269Z",
     "iopub.status.busy": "2022-05-30T22:34:19.042223Z",
     "iopub.status.idle": "2022-05-30T22:34:19.050475Z",
     "shell.execute_reply": "2022-05-30T22:34:19.049515Z",
     "shell.execute_reply.started": "2022-05-30T22:34:19.042652Z"
    }
   },
   "outputs": [
    {
     "data": {
      "text/plain": [
       "tensor([[-0.1273,  0.0173,  0.0000,  ..., -0.0000,  0.0000,  0.3625],\n",
       "        [-0.2199,  0.0173,  0.0000,  ..., -0.4392,  0.0000,  0.0000],\n",
       "        [-0.1504,  0.0000,  0.0000,  ..., -0.0000,  0.0000,  0.3625],\n",
       "        ...,\n",
       "        [-0.1389,  0.0173,  0.0803,  ..., -0.0000,  0.0000,  0.3625],\n",
       "        [-0.1504,  0.0000,  0.0000,  ..., -0.4392,  0.0000,  0.0000],\n",
       "        [-0.1852,  0.0000,  0.0000,  ..., -0.0000,  0.2103,  0.0000]])"
      ]
     },
     "execution_count": 149,
     "metadata": {},
     "output_type": "execute_result"
    }
   ],
   "source": [
    "X*W"
   ]
  },
  {
   "cell_type": "markdown",
   "metadata": {},
   "source": [
    "We can now create our predictions from the linear model using the *@* operator:"
   ]
  },
  {
   "cell_type": "code",
   "execution_count": 150,
   "metadata": {},
   "outputs": [
    {
     "data": {
      "text/plain": [
       "torch.Size([891])"
      ]
     },
     "execution_count": 150,
     "metadata": {},
     "output_type": "execute_result"
    }
   ],
   "source": [
    "y_hat = X@W\n",
    "y_hat.shape"
   ]
  },
  {
   "cell_type": "markdown",
   "metadata": {},
   "source": [
    "Let's take a look at the first few:"
   ]
  },
  {
   "cell_type": "code",
   "execution_count": 151,
   "metadata": {},
   "outputs": [
    {
     "data": {
      "text/plain": [
       "tensor([ 0.1927, -0.6239,  0.0979,  0.2056,  0.0968,  0.0066,  0.1306,  0.3476,\n",
       "         0.1613, -0.6285])"
      ]
     },
     "execution_count": 151,
     "metadata": {},
     "output_type": "execute_result"
    }
   ],
   "source": [
    "y_hat[:10]"
   ]
  },
  {
   "cell_type": "markdown",
   "metadata": {},
   "source": [
    "To do gradient descent, we need a loss function. Let's implement the mean-absolute-error loss function:"
   ]
  },
  {
   "cell_type": "code",
   "execution_count": 152,
   "metadata": {},
   "outputs": [
    {
     "data": {
      "text/plain": [
       "tensor(0.5382)"
      ]
     },
     "execution_count": 152,
     "metadata": {},
     "output_type": "execute_result"
    }
   ],
   "source": [
    "loss = torch.abs(y_hat - y).mean()\n",
    "loss"
   ]
  },
  {
   "cell_type": "markdown",
   "metadata": {},
   "source": [
    "Let's create functions for the above code:"
   ]
  },
  {
   "cell_type": "code",
   "execution_count": 153,
   "metadata": {},
   "outputs": [],
   "source": [
    "def predict(W, X): return X@W\n",
    "def get_loss(W, X, y): return torch.abs(predict(W, X) - y).mean()"
   ]
  },
  {
   "cell_type": "markdown",
   "metadata": {},
   "source": [
    "## Doing a gradient descent step\n",
    "\n",
    "- We are going to do a single epoch of gradient descent manually.\n",
    "- The only thing we are going to automate is the calulation of gradients. We will leave that to *pytorch*.\n",
    "- We'll need to call *requires_grad_()* on our *W*."
   ]
  },
  {
   "cell_type": "code",
   "execution_count": 154,
   "metadata": {},
   "outputs": [
    {
     "data": {
      "text/plain": [
       "tensor([-0.4629,  0.1386,  0.2409, -0.2262, -0.2632, -0.3147,  0.4876,  0.3136,\n",
       "         0.2799, -0.4392,  0.2103,  0.3625], requires_grad=True)"
      ]
     },
     "execution_count": 154,
     "metadata": {},
     "output_type": "execute_result"
    }
   ],
   "source": [
    "W.requires_grad_()"
   ]
  },
  {
   "cell_type": "markdown",
   "metadata": {},
   "source": [
    "Now we can calculate the loss and keep track of the gradients as follows:"
   ]
  },
  {
   "cell_type": "code",
   "execution_count": 155,
   "metadata": {},
   "outputs": [
    {
     "data": {
      "text/plain": [
       "tensor(0.5382, grad_fn=<MeanBackward0>)"
      ]
     },
     "execution_count": 155,
     "metadata": {},
     "output_type": "execute_result"
    }
   ],
   "source": [
    "loss = get_loss(W, X, y)\n",
    "loss"
   ]
  },
  {
   "cell_type": "markdown",
   "metadata": {},
   "source": [
    "We use *backward()* to ask PyTorch to calculate the gradients w.r.t the parameters:"
   ]
  },
  {
   "cell_type": "code",
   "execution_count": 156,
   "metadata": {},
   "outputs": [],
   "source": [
    "loss.backward()"
   ]
  },
  {
   "cell_type": "markdown",
   "metadata": {},
   "source": [
    "Let's check out what they look like:"
   ]
  },
  {
   "cell_type": "code",
   "execution_count": 157,
   "metadata": {},
   "outputs": [
    {
     "data": {
      "text/plain": [
       "tensor([-0.0106,  0.0129, -0.0041, -0.0484,  0.2099, -0.2132, -0.1212, -0.0247,\n",
       "         0.1425, -0.1886, -0.0191,  0.2043])"
      ]
     },
     "execution_count": 157,
     "metadata": {},
     "output_type": "execute_result"
    }
   ],
   "source": [
    "W.grad"
   ]
  },
  {
   "cell_type": "markdown",
   "metadata": {},
   "source": [
    "Notice that each time we call *backward()*, the gradients get added to *.grad*, let's verify this:"
   ]
  },
  {
   "cell_type": "code",
   "execution_count": 158,
   "metadata": {},
   "outputs": [
    {
     "data": {
      "text/plain": [
       "tensor([-0.0212,  0.0258, -0.0082, -0.0969,  0.4198, -0.4265, -0.2424, -0.0494,\n",
       "         0.2851, -0.3771, -0.0382,  0.4085])"
      ]
     },
     "execution_count": 158,
     "metadata": {},
     "output_type": "execute_result"
    }
   ],
   "source": [
    "loss = get_loss(W, X, y)\n",
    "loss.backward()\n",
    "W.grad"
   ]
  },
  {
   "cell_type": "markdown",
   "metadata": {},
   "source": [
    "After we use the gradients to conduct the step, we need to set them back to *0*:"
   ]
  },
  {
   "cell_type": "code",
   "execution_count": 160,
   "metadata": {},
   "outputs": [
    {
     "name": "stdout",
     "output_type": "stream",
     "text": [
      "tensor(0.4984)\n"
     ]
    }
   ],
   "source": [
    "loss = get_loss(W, X, y)\n",
    "loss.backward()\n",
    "with torch.no_grad():\n",
    "    W -= W.grad * .1\n",
    "    W.grad.zero_()\n",
    "    print(get_loss(W, X, y))"
   ]
  },
  {
   "cell_type": "markdown",
   "metadata": {},
   "source": [
    "## Training the linear model\n",
    "\n",
    "- We have to hold out a validation set for calculating our metrics.\n",
    "- We will use a *RandomSplitter* to get indices that will split our data into *train* and *test*."
   ]
  },
  {
   "cell_type": "code",
   "execution_count": 162,
   "metadata": {},
   "outputs": [],
   "source": [
    "train_split, val_split = RandomSplitter(seed=42)(df)"
   ]
  },
  {
   "cell_type": "markdown",
   "metadata": {},
   "source": [
    "We'll use the indices to split the dataset:"
   ]
  },
  {
   "cell_type": "code",
   "execution_count": 165,
   "metadata": {},
   "outputs": [
    {
     "data": {
      "text/plain": [
       "(torch.Size([713, 12]),\n",
       " torch.Size([713]),\n",
       " torch.Size([178, 12]),\n",
       " torch.Size([178]))"
      ]
     },
     "execution_count": 165,
     "metadata": {},
     "output_type": "execute_result"
    }
   ],
   "source": [
    "X_train, y_train = X[train_split], y[train_split]\n",
    "X_val, y_val = X[val_split], y[val_split]\n",
    "X_train.shape, y_train.shape, X_val.shape, y_val.shape"
   ]
  },
  {
   "cell_type": "markdown",
   "metadata": {},
   "source": [
    "We'll create functions for the 3 tasks:\n",
    "- Updating *coeffs*.\n",
    "- 1 full gradient descent step.\n",
    "- Initializing *W* to random numbers."
   ]
  },
  {
   "cell_type": "code",
   "execution_count": 166,
   "metadata": {},
   "outputs": [],
   "source": [
    "def update_weights(W, lr):\n",
    "    W -= (W.grad * lr)\n",
    "    W.grad.zero_()"
   ]
  },
  {
   "cell_type": "code",
   "execution_count": 168,
   "metadata": {},
   "outputs": [],
   "source": [
    "def one_epoch(W, lr):\n",
    "    loss = get_loss(W, X_train, y_train)\n",
    "    loss.backward()\n",
    "    with torch.no_grad(): \n",
    "        update_weights(W, lr)\n",
    "        print(f\"{loss:.3f}\", end=\"; \")"
   ]
  },
  {
   "cell_type": "code",
   "execution_count": 169,
   "metadata": {},
   "outputs": [],
   "source": [
    "def init_W(): return (torch.rand(features) - .5).requires_grad_()"
   ]
  },
  {
   "cell_type": "markdown",
   "metadata": {},
   "source": [
    "We can use the functions to train the model:"
   ]
  },
  {
   "cell_type": "code",
   "execution_count": 170,
   "metadata": {},
   "outputs": [],
   "source": [
    "def train(epochs=30, lr=.01):\n",
    "    torch.manual_seed(442)\n",
    "    W = init_W()\n",
    "    for _ in range(epochs): one_epoch(W, lr=lr)\n",
    "    return W"
   ]
  },
  {
   "cell_type": "markdown",
   "metadata": {},
   "source": [
    "Let's try it:"
   ]
  },
  {
   "cell_type": "code",
   "execution_count": 171,
   "metadata": {},
   "outputs": [
    {
     "name": "stdout",
     "output_type": "stream",
     "text": [
      "0.536; 0.502; 0.477; 0.454; 0.431; 0.409; 0.388; 0.367; 0.349; 0.336; 0.330; 0.326; 0.329; 0.304; 0.314; 0.296; 0.300; 0.289; "
     ]
    }
   ],
   "source": [
    "W = train(18, .2)"
   ]
  },
  {
   "cell_type": "markdown",
   "metadata": {},
   "source": [
    "Let's take a look at the coefficients for each column:"
   ]
  },
  {
   "cell_type": "code",
   "execution_count": 173,
   "metadata": {
    "execution": {
     "iopub.execute_input": "2022-05-30T22:36:21.980389Z",
     "iopub.status.busy": "2022-05-30T22:36:21.97957Z",
     "iopub.status.idle": "2022-05-30T22:36:21.990088Z",
     "shell.execute_reply": "2022-05-30T22:36:21.989021Z",
     "shell.execute_reply.started": "2022-05-30T22:36:21.98035Z"
    }
   },
   "outputs": [
    {
     "data": {
      "text/plain": [
       "{'Age': tensor(-0.2694),\n",
       " 'SibSp': tensor(0.0901),\n",
       " 'Parch': tensor(0.2359),\n",
       " 'LogFare': tensor(0.0280),\n",
       " 'Sex_male': tensor(-0.3990),\n",
       " 'Sex_female': tensor(0.2345),\n",
       " 'Pclass_1': tensor(0.7232),\n",
       " 'Pclass_2': tensor(0.4112),\n",
       " 'Pclass_3': tensor(0.3601),\n",
       " 'Embarked_C': tensor(0.0955),\n",
       " 'Embarked_Q': tensor(0.2395),\n",
       " 'Embarked_S': tensor(0.2122)}"
      ]
     },
     "execution_count": 173,
     "metadata": {},
     "output_type": "execute_result"
    }
   ],
   "source": [
    "def show_coeffs(): return dict(zip(indep_cols, W.requires_grad_(False)))\n",
    "show_coeffs()"
   ]
  },
  {
   "cell_type": "markdown",
   "metadata": {},
   "source": [
    "## Measuring accuracy"
   ]
  },
  {
   "cell_type": "markdown",
   "metadata": {},
   "source": [
    "Let's start by calculating the predictions:"
   ]
  },
  {
   "cell_type": "code",
   "execution_count": 174,
   "metadata": {},
   "outputs": [
    {
     "data": {
      "text/plain": [
       "torch.Size([178])"
      ]
     },
     "execution_count": 174,
     "metadata": {},
     "output_type": "execute_result"
    }
   ],
   "source": [
    "y_hat = predict(W, X_val)\n",
    "y_hat.shape"
   ]
  },
  {
   "cell_type": "markdown",
   "metadata": {},
   "source": [
    "Let's collapse the predictions into *0* or *1*:"
   ]
  },
  {
   "cell_type": "code",
   "execution_count": 184,
   "metadata": {},
   "outputs": [
    {
     "data": {
      "text/plain": [
       "tensor(0.7865)"
      ]
     },
     "execution_count": 184,
     "metadata": {},
     "output_type": "execute_result"
    }
   ],
   "source": [
    "(y_val.bool() == (y_hat > .5)).float().mean()"
   ]
  },
  {
   "cell_type": "markdown",
   "metadata": {},
   "source": [
    "Let's create a function that takes the weights and returns the overall accuracy:"
   ]
  },
  {
   "cell_type": "code",
   "execution_count": 187,
   "metadata": {},
   "outputs": [
    {
     "data": {
      "text/plain": [
       "tensor(0.7865)"
      ]
     },
     "execution_count": 187,
     "metadata": {},
     "output_type": "execute_result"
    }
   ],
   "source": [
    "def acc(W): return (y_val.bool() == (X_val@W > .5)).float().mean()\n",
    "acc(W)"
   ]
  },
  {
   "cell_type": "markdown",
   "metadata": {},
   "source": [
    "## Using sigmoid"
   ]
  },
  {
   "cell_type": "markdown",
   "metadata": {},
   "source": [
    "Looking at our predictions, there's one obvious problem -- some of our predictions of the probability of survival are `>1`, and some are `<0`:"
   ]
  },
  {
   "cell_type": "code",
   "execution_count": 189,
   "metadata": {
    "execution": {
     "iopub.execute_input": "2022-05-30T22:36:42.344823Z",
     "iopub.status.busy": "2022-05-30T22:36:42.344533Z",
     "iopub.status.idle": "2022-05-30T22:36:42.352948Z",
     "shell.execute_reply": "2022-05-30T22:36:42.351968Z",
     "shell.execute_reply.started": "2022-05-30T22:36:42.344794Z"
    }
   },
   "outputs": [
    {
     "data": {
      "text/plain": [
       "tensor([ 0.8160,  0.1295, -0.0148,  0.1831,  0.1520,  0.1350,  0.7279,  0.7754,\n",
       "         0.3222,  0.6740,  0.0753,  0.0389,  0.2216,  0.7631,  0.0678,  0.3997,\n",
       "         0.3324,  0.8278,  0.1078,  0.7126,  0.1023,  0.3627,  0.9937,  0.8050,\n",
       "         0.1153,  0.1455,  0.8652,  0.3425])"
      ]
     },
     "execution_count": 189,
     "metadata": {},
     "output_type": "execute_result"
    }
   ],
   "source": [
    "y_hat[:28]"
   ]
  },
  {
   "cell_type": "markdown",
   "metadata": {},
   "source": [
    "To fix this, we should pass every prediction through the *sigmoid function*, which has a minimum at zero and maximum at one, and is defined as follows:"
   ]
  },
  {
   "cell_type": "code",
   "execution_count": 191,
   "metadata": {
    "execution": {
     "iopub.execute_input": "2022-05-30T22:36:44.914015Z",
     "iopub.status.busy": "2022-05-30T22:36:44.913101Z",
     "iopub.status.idle": "2022-05-30T22:36:46.311818Z",
     "shell.execute_reply": "2022-05-30T22:36:46.311008Z",
     "shell.execute_reply.started": "2022-05-30T22:36:44.913968Z"
    }
   },
   "outputs": [
    {
     "data": {
      "image/png": "[encoded data removed]",
      "text/plain": [
       "<Figure size 640x480 with 1 Axes>"
      ]
     },
     "metadata": {},
     "output_type": "display_data"
    }
   ],
   "source": [
    "sympy.plot(\"1/(1+exp(-x))\", xlim=(-5,5));"
   ]
  },
  {
   "cell_type": "markdown",
   "metadata": {},
   "source": [
    "PyTorch already defines that function for us, so we can modify `calc_preds` to use it:"
   ]
  },
  {
   "cell_type": "code",
   "execution_count": 192,
   "metadata": {
    "execution": {
     "iopub.execute_input": "2022-05-30T22:36:46.313644Z",
     "iopub.status.busy": "2022-05-30T22:36:46.313435Z",
     "iopub.status.idle": "2022-05-30T22:36:46.317749Z",
     "shell.execute_reply": "2022-05-30T22:36:46.3169Z",
     "shell.execute_reply.started": "2022-05-30T22:36:46.313618Z"
    }
   },
   "outputs": [],
   "source": [
    "def predict(W, X): return torch.sigmoid(X@W)"
   ]
  },
  {
   "cell_type": "markdown",
   "metadata": {},
   "source": [
    "Let's train a new model now, using this updated function to calculate predictions:"
   ]
  },
  {
   "cell_type": "code",
   "execution_count": 194,
   "metadata": {
    "execution": {
     "iopub.execute_input": "2022-05-30T22:38:23.22576Z",
     "iopub.status.busy": "2022-05-30T22:38:23.225051Z",
     "iopub.status.idle": "2022-05-30T22:38:23.250206Z",
     "shell.execute_reply": "2022-05-30T22:38:23.249321Z",
     "shell.execute_reply.started": "2022-05-30T22:38:23.225722Z"
    }
   },
   "outputs": [
    {
     "name": "stdout",
     "output_type": "stream",
     "text": [
      "0.510; 0.327; 0.294; 0.207; 0.201; 0.199; 0.198; 0.197; 0.196; 0.196; 0.196; 0.195; 0.195; 0.195; 0.195; 0.195; 0.195; 0.195; 0.194; 0.194; 0.194; 0.194; 0.194; 0.194; 0.194; 0.194; 0.194; 0.194; 0.194; 0.194; "
     ]
    }
   ],
   "source": [
    "W = train(lr=100)"
   ]
  },
  {
   "cell_type": "markdown",
   "metadata": {},
   "source": [
    "The loss has improved by a lot. Let's check the accuracy:"
   ]
  },
  {
   "cell_type": "code",
   "execution_count": 195,
   "metadata": {
    "execution": {
     "iopub.execute_input": "2022-05-30T22:38:28.519132Z",
     "iopub.status.busy": "2022-05-30T22:38:28.518642Z",
     "iopub.status.idle": "2022-05-30T22:38:28.527145Z",
     "shell.execute_reply": "2022-05-30T22:38:28.526248Z",
     "shell.execute_reply.started": "2022-05-30T22:38:28.519078Z"
    }
   },
   "outputs": [
    {
     "data": {
      "text/plain": [
       "tensor(0.8258)"
      ]
     },
     "execution_count": 195,
     "metadata": {},
     "output_type": "execute_result"
    }
   ],
   "source": [
    "acc(W)"
   ]
  },
  {
   "cell_type": "markdown",
   "metadata": {},
   "source": [
    "That's improved too! Here's the coefficients of our trained model:"
   ]
  },
  {
   "cell_type": "code",
   "execution_count": 196,
   "metadata": {
    "execution": {
     "iopub.execute_input": "2022-05-30T22:38:32.01697Z",
     "iopub.status.busy": "2022-05-30T22:38:32.015953Z",
     "iopub.status.idle": "2022-05-30T22:38:32.02724Z",
     "shell.execute_reply": "2022-05-30T22:38:32.026125Z",
     "shell.execute_reply.started": "2022-05-30T22:38:32.016924Z"
    }
   },
   "outputs": [
    {
     "data": {
      "text/plain": [
       "{'Age': tensor(-1.5061),\n",
       " 'SibSp': tensor(-1.1575),\n",
       " 'Parch': tensor(-0.4267),\n",
       " 'LogFare': tensor(0.2543),\n",
       " 'Sex_male': tensor(-10.3320),\n",
       " 'Sex_female': tensor(8.4185),\n",
       " 'Pclass_1': tensor(3.8389),\n",
       " 'Pclass_2': tensor(2.1398),\n",
       " 'Pclass_3': tensor(-6.2331),\n",
       " 'Embarked_C': tensor(1.4771),\n",
       " 'Embarked_Q': tensor(2.1168),\n",
       " 'Embarked_S': tensor(-4.7958)}"
      ]
     },
     "execution_count": 196,
     "metadata": {},
     "output_type": "execute_result"
    }
   ],
   "source": [
    "show_coeffs()"
   ]
  },
  {
   "cell_type": "markdown",
   "metadata": {},
   "source": [
    "These coefficients seem reasonable -- in general, older people and males were less likely to survive, and first class passengers were more likely to survive."
   ]
  },
  {
   "cell_type": "markdown",
   "metadata": {},
   "source": [
    "## Submitting to Kaggle"
   ]
  },
  {
   "cell_type": "markdown",
   "metadata": {},
   "source": [
    "Now that we've got a trained model, we can prepare a submission to Kaggle. To do that, first we need to read the test set:"
   ]
  },
  {
   "cell_type": "code",
   "execution_count": 202,
   "metadata": {
    "execution": {
     "iopub.execute_input": "2022-05-30T22:38:35.172909Z",
     "iopub.status.busy": "2022-05-30T22:38:35.172343Z",
     "iopub.status.idle": "2022-05-30T22:38:35.188597Z",
     "shell.execute_reply": "2022-05-30T22:38:35.187826Z",
     "shell.execute_reply.started": "2022-05-30T22:38:35.172873Z"
    }
   },
   "outputs": [],
   "source": [
    "tst_df = pd.read_csv(dataset_path / \"test.csv\")"
   ]
  },
  {
   "cell_type": "markdown",
   "metadata": {},
   "source": [
    "In this case, it turns out that the test set is missing `Fare` for one passenger. We'll just fill it with `0` to avoid problems:"
   ]
  },
  {
   "cell_type": "code",
   "execution_count": 203,
   "metadata": {
    "execution": {
     "iopub.execute_input": "2022-05-30T22:38:36.353392Z",
     "iopub.status.busy": "2022-05-30T22:38:36.352687Z",
     "iopub.status.idle": "2022-05-30T22:38:36.358237Z",
     "shell.execute_reply": "2022-05-30T22:38:36.35739Z",
     "shell.execute_reply.started": "2022-05-30T22:38:36.353355Z"
    }
   },
   "outputs": [],
   "source": [
    "tst_df['Fare'] = tst_df.Fare.fillna(0)"
   ]
  },
  {
   "cell_type": "markdown",
   "metadata": {},
   "source": [
    "Now we can just copy the same steps we did to our training set and do the same exact things on our test set to preprocess the data:"
   ]
  },
  {
   "cell_type": "code",
   "execution_count": 204,
   "metadata": {
    "execution": {
     "iopub.execute_input": "2022-05-30T22:38:38.198549Z",
     "iopub.status.busy": "2022-05-30T22:38:38.198257Z",
     "iopub.status.idle": "2022-05-30T22:38:38.220592Z",
     "shell.execute_reply": "2022-05-30T22:38:38.219629Z",
     "shell.execute_reply.started": "2022-05-30T22:38:38.198519Z"
    }
   },
   "outputs": [],
   "source": [
    "tst_df.fillna(modes, inplace=True)\n",
    "tst_df[\"LogFare\"] = np.log(tst_df[\"Fare\"] + 1)\n",
    "tst_df = pd.get_dummies(tst_df, columns=[\"Sex\", \"Pclass\", \"Embarked\"])\n",
    "X_test = tensor(tst_df[indep_cols].values, dtype=torch.float)\n",
    "X_test = X_test / maxes"
   ]
  },
  {
   "cell_type": "markdown",
   "metadata": {},
   "source": [
    "Let's calculate our predictions of which passengers survived in the test set:"
   ]
  },
  {
   "cell_type": "code",
   "execution_count": 208,
   "metadata": {
    "execution": {
     "iopub.execute_input": "2022-05-30T22:38:39.206547Z",
     "iopub.status.busy": "2022-05-30T22:38:39.206216Z",
     "iopub.status.idle": "2022-05-30T22:38:39.212386Z",
     "shell.execute_reply": "2022-05-30T22:38:39.211631Z",
     "shell.execute_reply.started": "2022-05-30T22:38:39.206512Z"
    }
   },
   "outputs": [],
   "source": [
    "tst_df['Survived'] = (predict(W, X_test) > 0.5).int()"
   ]
  },
  {
   "cell_type": "markdown",
   "metadata": {},
   "source": [
    "The sample submission on the Kaggle competition site shows that we're expected to upload a CSV with just `PassengerId` and `Survived`, so let's create that and save it:"
   ]
  },
  {
   "cell_type": "code",
   "execution_count": 209,
   "metadata": {
    "execution": {
     "iopub.execute_input": "2022-05-30T22:38:40.161382Z",
     "iopub.status.busy": "2022-05-30T22:38:40.161034Z",
     "iopub.status.idle": "2022-05-30T22:38:40.173242Z",
     "shell.execute_reply": "2022-05-30T22:38:40.17258Z",
     "shell.execute_reply.started": "2022-05-30T22:38:40.161336Z"
    }
   },
   "outputs": [],
   "source": [
    "sub_df = tst_df[['PassengerId','Survived']]\n",
    "sub_df.to_csv('sub.csv', index=False)"
   ]
  },
  {
   "cell_type": "markdown",
   "metadata": {},
   "source": [
    "We can check the first few rows of the file to make sure it looks reasonable:"
   ]
  },
  {
   "cell_type": "code",
   "execution_count": 210,
   "metadata": {
    "execution": {
     "iopub.execute_input": "2022-05-30T22:38:42.869402Z",
     "iopub.status.busy": "2022-05-30T22:38:42.86855Z",
     "iopub.status.idle": "2022-05-30T22:38:43.638832Z",
     "shell.execute_reply": "2022-05-30T22:38:43.637559Z",
     "shell.execute_reply.started": "2022-05-30T22:38:42.869362Z"
    }
   },
   "outputs": [
    {
     "name": "stdout",
     "output_type": "stream",
     "text": [
      "PassengerId,Survived\r\n",
      "892,0\r\n",
      "893,0\r\n",
      "894,0\r\n",
      "895,0\r\n",
      "896,0\r\n",
      "897,0\r\n",
      "898,1\r\n",
      "899,0\r\n",
      "900,1\r\n"
     ]
    }
   ],
   "source": [
    "!head sub.csv"
   ]
  },
  {
   "cell_type": "markdown",
   "metadata": {},
   "source": [
    "When you click \"save version\" in Kaggle, and wait for the notebook to run, you'll see that `sub.csv` appears in the \"Data\" tab. Clicking on that file will show a *Submit* button, which allows you to submit to the competition."
   ]
  },
  {
   "cell_type": "markdown",
   "metadata": {},
   "source": [
    "## Using matrix product"
   ]
  },
  {
   "cell_type": "markdown",
   "metadata": {},
   "source": [
    "We can make things quite a bit neater...\n",
    "\n",
    "Take a look at the inner-most calculation we're doing to get the predictions:"
   ]
  },
  {
   "cell_type": "code",
   "execution_count": 211,
   "metadata": {
    "execution": {
     "iopub.execute_input": "2022-05-30T22:38:48.248084Z",
     "iopub.status.busy": "2022-05-30T22:38:48.247768Z",
     "iopub.status.idle": "2022-05-30T22:38:48.258935Z",
     "shell.execute_reply": "2022-05-30T22:38:48.258184Z",
     "shell.execute_reply.started": "2022-05-30T22:38:48.248052Z"
    }
   },
   "outputs": [
    {
     "data": {
      "text/plain": [
       "tensor([ 12.3288, -14.8119, -15.4540, -13.1513, -13.3512, -13.6469,   3.6248,\n",
       "          5.3429, -22.0878,   3.1233, -21.8742, -15.6421, -21.5504,   3.9393,\n",
       "        -21.9190, -12.0010, -12.3775,   5.3550, -13.5880,  -3.1015, -21.7237,\n",
       "        -12.2081,  12.9767,   4.7427, -21.6525, -14.9135,  -2.7433, -12.3210,\n",
       "        -21.5886,   3.9387,   5.3890,  -3.6196, -21.6296, -21.8454,  12.2159,\n",
       "         -3.2275, -12.0289,  13.4560, -21.7230,  -3.1366, -13.2462, -21.7230,\n",
       "        -13.6831,  13.3092, -21.6477,  -3.5868, -21.6854, -21.8316, -14.8158,\n",
       "         -2.9386,  -5.3103, -22.2384, -22.1097, -21.7466, -13.3780, -13.4909,\n",
       "        -14.8119, -22.0690, -21.6666, -21.7818,  -5.4440, -21.7407, -12.6551,\n",
       "        -21.6671,   4.9238, -11.5777, -13.3323, -21.9638, -15.3030,   5.0243,\n",
       "        -21.7614,   3.1820, -13.4721, -21.7170, -11.6066, -21.5737, -21.7230,\n",
       "        -11.9652, -13.2382, -13.7599, -13.2170,  13.1347, -21.7049, -21.7268,\n",
       "          4.9207,  -7.3198,  -5.3081,   7.1066,  11.4948, -13.3135, -21.8723,\n",
       "        -21.7230,  13.3603, -15.5670,   3.4105,  -7.2857, -13.7197,   3.6909,\n",
       "          3.9763, -14.7227, -21.8268,   3.9387, -21.8743, -21.8367, -11.8518,\n",
       "        -13.6712, -21.8299,   4.9440,  -5.4471, -21.9666,   5.1333,  -3.2187,\n",
       "        -11.6008,  13.7920, -21.7230,  12.6369,  -3.7268, -14.8119, -22.0637,\n",
       "         12.9469, -22.1610,  -6.1827, -14.8119,  -3.2838, -15.4540, -11.6950,\n",
       "         -2.9926,  -3.0110, -21.5664, -13.8268,   7.3426, -21.8418,   5.0744,\n",
       "          5.2582,  13.3415, -21.6289, -13.9898, -21.8112,  -7.3316,   5.2296,\n",
       "        -13.4453,  12.7891, -22.1235, -14.9625,  -3.4339,   6.3089, -21.9839,\n",
       "          3.1968,   7.2400,   2.8558,  -3.1187,   3.7965,   5.4667, -15.1101,\n",
       "        -15.0597, -22.9391, -21.7230,  -3.0346, -13.5206, -21.7011,  13.4425,\n",
       "         -7.2690, -21.8335, -12.0582,  13.0489,   6.7993,   5.2160,   5.0794,\n",
       "        -12.6957, -12.1838,  -3.0873, -21.6070,   7.0745, -21.7170, -22.1001,\n",
       "          6.8159, -11.6002, -21.6310])"
      ]
     },
     "execution_count": 211,
     "metadata": {},
     "output_type": "execute_result"
    }
   ],
   "source": [
    "(X_val * W).sum(axis=1)"
   ]
  },
  {
   "cell_type": "markdown",
   "metadata": {},
   "source": [
    "Multiplying elements together and then adding across rows is identical to doing a matrix-vector product! Python uses the `@` operator to indicate matrix products, and is supported by PyTorch tensors. Therefore, we can replicate the above calculate more simply like so:"
   ]
  },
  {
   "cell_type": "code",
   "execution_count": 212,
   "metadata": {
    "execution": {
     "iopub.execute_input": "2022-05-30T22:38:51.959798Z",
     "iopub.status.busy": "2022-05-30T22:38:51.959362Z",
     "iopub.status.idle": "2022-05-30T22:38:51.97614Z",
     "shell.execute_reply": "2022-05-30T22:38:51.975461Z",
     "shell.execute_reply.started": "2022-05-30T22:38:51.959765Z"
    }
   },
   "outputs": [
    {
     "data": {
      "text/plain": [
       "tensor([ 12.3288, -14.8119, -15.4540, -13.1513, -13.3512, -13.6469,   3.6248,\n",
       "          5.3429, -22.0878,   3.1233, -21.8742, -15.6421, -21.5504,   3.9393,\n",
       "        -21.9190, -12.0010, -12.3775,   5.3550, -13.5880,  -3.1015, -21.7237,\n",
       "        -12.2081,  12.9767,   4.7427, -21.6525, -14.9135,  -2.7433, -12.3210,\n",
       "        -21.5886,   3.9387,   5.3890,  -3.6196, -21.6296, -21.8454,  12.2159,\n",
       "         -3.2275, -12.0289,  13.4560, -21.7230,  -3.1366, -13.2462, -21.7230,\n",
       "        -13.6831,  13.3092, -21.6477,  -3.5868, -21.6854, -21.8316, -14.8158,\n",
       "         -2.9386,  -5.3103, -22.2384, -22.1097, -21.7466, -13.3780, -13.4909,\n",
       "        -14.8119, -22.0690, -21.6666, -21.7818,  -5.4440, -21.7407, -12.6551,\n",
       "        -21.6671,   4.9238, -11.5777, -13.3323, -21.9638, -15.3030,   5.0243,\n",
       "        -21.7614,   3.1820, -13.4721, -21.7170, -11.6066, -21.5737, -21.7230,\n",
       "        -11.9652, -13.2382, -13.7599, -13.2170,  13.1347, -21.7049, -21.7268,\n",
       "          4.9207,  -7.3198,  -5.3081,   7.1066,  11.4948, -13.3135, -21.8723,\n",
       "        -21.7230,  13.3603, -15.5670,   3.4105,  -7.2857, -13.7197,   3.6909,\n",
       "          3.9763, -14.7227, -21.8268,   3.9387, -21.8743, -21.8367, -11.8518,\n",
       "        -13.6712, -21.8299,   4.9440,  -5.4471, -21.9666,   5.1333,  -3.2187,\n",
       "        -11.6008,  13.7920, -21.7230,  12.6369,  -3.7268, -14.8119, -22.0637,\n",
       "         12.9469, -22.1610,  -6.1827, -14.8119,  -3.2838, -15.4540, -11.6950,\n",
       "         -2.9926,  -3.0110, -21.5664, -13.8268,   7.3426, -21.8418,   5.0744,\n",
       "          5.2582,  13.3415, -21.6289, -13.9898, -21.8112,  -7.3316,   5.2296,\n",
       "        -13.4453,  12.7891, -22.1235, -14.9625,  -3.4339,   6.3089, -21.9839,\n",
       "          3.1968,   7.2400,   2.8558,  -3.1187,   3.7965,   5.4667, -15.1101,\n",
       "        -15.0597, -22.9391, -21.7230,  -3.0346, -13.5206, -21.7011,  13.4425,\n",
       "         -7.2690, -21.8335, -12.0582,  13.0489,   6.7993,   5.2160,   5.0794,\n",
       "        -12.6957, -12.1838,  -3.0873, -21.6070,   7.0745, -21.7170, -22.1001,\n",
       "          6.8159, -11.6002, -21.6310])"
      ]
     },
     "execution_count": 212,
     "metadata": {},
     "output_type": "execute_result"
    }
   ],
   "source": [
    "X_val @ W"
   ]
  },
  {
   "cell_type": "markdown",
   "metadata": {},
   "source": [
    "It also turns out that this is much faster, because matrix products in PyTorch are very highly optimised.\n",
    "\n",
    "Let's use this to replace how `calc_preds` works:"
   ]
  },
  {
   "cell_type": "code",
   "execution_count": 214,
   "metadata": {
    "execution": {
     "iopub.execute_input": "2022-05-30T22:38:56.322255Z",
     "iopub.status.busy": "2022-05-30T22:38:56.321807Z",
     "iopub.status.idle": "2022-05-30T22:38:56.326812Z",
     "shell.execute_reply": "2022-05-30T22:38:56.32606Z",
     "shell.execute_reply.started": "2022-05-30T22:38:56.322213Z"
    }
   },
   "outputs": [],
   "source": [
    "def predict(W, X): return torch.sigmoid(X@W)"
   ]
  },
  {
   "cell_type": "markdown",
   "metadata": {},
   "source": [
    "In order to do matrix-matrix products (which we'll need in the next section), we need to turn `coeffs` into a column vector (i.e. a matrix with a single column), which we can do by passing a second argument `1` to `torch.rand()`, indicating that we want our coefficients to have one column:"
   ]
  },
  {
   "cell_type": "code",
   "execution_count": 216,
   "metadata": {
    "execution": {
     "iopub.execute_input": "2022-05-30T22:38:58.895779Z",
     "iopub.status.busy": "2022-05-30T22:38:58.895467Z",
     "iopub.status.idle": "2022-05-30T22:38:58.900851Z",
     "shell.execute_reply": "2022-05-30T22:38:58.899931Z",
     "shell.execute_reply.started": "2022-05-30T22:38:58.895744Z"
    }
   },
   "outputs": [],
   "source": [
    "def init_coeffs(): return (torch.rand(features, 1) * .1).requires_grad_()"
   ]
  },
  {
   "cell_type": "markdown",
   "metadata": {},
   "source": [
    "We'll also need to turn our dependent variable into a column vector, which we can do by indexing the column dimension with the special value `None`, which tells PyTorch to add a new dimension in this position:"
   ]
  },
  {
   "cell_type": "code",
   "execution_count": 219,
   "metadata": {
    "execution": {
     "iopub.execute_input": "2022-05-30T22:38:59.789678Z",
     "iopub.status.busy": "2022-05-30T22:38:59.788799Z",
     "iopub.status.idle": "2022-05-30T22:38:59.794227Z",
     "shell.execute_reply": "2022-05-30T22:38:59.793326Z",
     "shell.execute_reply.started": "2022-05-30T22:38:59.789625Z"
    }
   },
   "outputs": [
    {
     "data": {
      "text/plain": [
       "(torch.Size([713, 1]), torch.Size([178, 1]))"
      ]
     },
     "execution_count": 219,
     "metadata": {},
     "output_type": "execute_result"
    }
   ],
   "source": [
    "y_train = y_train[:, None]\n",
    "y_val = y_val[:, None]\n",
    "y_train.shape, y_val.shape"
   ]
  },
  {
   "cell_type": "markdown",
   "metadata": {},
   "source": [
    "We can now train our model as before and confirm we get identical outputs...:"
   ]
  },
  {
   "cell_type": "code",
   "execution_count": 220,
   "metadata": {
    "execution": {
     "iopub.execute_input": "2022-05-30T22:39:38.071003Z",
     "iopub.status.busy": "2022-05-30T22:39:38.070545Z",
     "iopub.status.idle": "2022-05-30T22:39:38.094666Z",
     "shell.execute_reply": "2022-05-30T22:39:38.093641Z",
     "shell.execute_reply.started": "2022-05-30T22:39:38.070972Z"
    }
   },
   "outputs": [
    {
     "name": "stdout",
     "output_type": "stream",
     "text": [
      "0.510; 0.327; 0.294; 0.207; 0.201; 0.199; 0.198; 0.197; 0.196; 0.196; 0.196; 0.195; 0.195; 0.195; 0.195; 0.195; 0.195; 0.195; 0.194; 0.194; 0.194; 0.194; 0.194; 0.194; 0.194; 0.194; 0.194; 0.194; 0.194; 0.194; "
     ]
    }
   ],
   "source": [
    "W = train(lr=100)"
   ]
  },
  {
   "cell_type": "markdown",
   "metadata": {},
   "source": [
    "...and identical accuracy:"
   ]
  },
  {
   "cell_type": "code",
   "execution_count": 222,
   "metadata": {
    "execution": {
     "iopub.execute_input": "2022-05-30T22:39:40.463735Z",
     "iopub.status.busy": "2022-05-30T22:39:40.463301Z",
     "iopub.status.idle": "2022-05-30T22:39:40.469684Z",
     "shell.execute_reply": "2022-05-30T22:39:40.468652Z",
     "shell.execute_reply.started": "2022-05-30T22:39:40.463702Z"
    }
   },
   "outputs": [
    {
     "data": {
      "text/plain": [
       "tensor(0.8258)"
      ]
     },
     "execution_count": 222,
     "metadata": {},
     "output_type": "execute_result"
    }
   ],
   "source": [
    "acc(W)"
   ]
  },
  {
   "cell_type": "markdown",
   "metadata": {},
   "source": [
    "## A neural network\n",
    "\n",
    "- We've got all of the components we need to implement a full neural network.\n",
    "- Steps:\n",
    "    1. Create coefficients for each one of our layers (*features* -> *n_hidden*).\n",
    "    2. We'll divide the coefficients by *n_hidden*.\n",
    "    3. The second layer will have a (*n_hidden* -> *1*) mapping. \n",
    "    4. We will add a single learnable constant (bias) to the output of the second layer."
   ]
  },
  {
   "cell_type": "code",
   "execution_count": 249,
   "metadata": {
    "execution": {
     "iopub.execute_input": "2022-05-30T22:39:44.428599Z",
     "iopub.status.busy": "2022-05-30T22:39:44.428254Z",
     "iopub.status.idle": "2022-05-30T22:39:44.434009Z",
     "shell.execute_reply": "2022-05-30T22:39:44.433164Z",
     "shell.execute_reply.started": "2022-05-30T22:39:44.428563Z"
    }
   },
   "outputs": [],
   "source": [
    "def init_weights(n_hidden=20):\n",
    "    W1 = (torch.rand(features, n_hidden) - .5) / n_hidden\n",
    "    W2 = torch.rand(n_hidden, 1) - .3\n",
    "    bias = torch.rand(1)[0]\n",
    "    return W1.requires_grad_(), W2.requires_grad_(), bias.requires_grad_()"
   ]
  },
  {
   "cell_type": "markdown",
   "metadata": {},
   "source": [
    "- Now we have our coefficients, we can create our neural net.\n",
    "- The key steps are the two matrix products, `indeps@l1` and `res@l2` (where `res` is the output of the first layer). - The first layer output is passed to `F.relu` (that's our non-linearity), and the second is passed to `torch.sigmoid` as before."
   ]
  },
  {
   "cell_type": "code",
   "execution_count": 250,
   "metadata": {},
   "outputs": [],
   "source": [
    "def predict(Ws, X):\n",
    "    W1, W2, bias = Ws\n",
    "    act = F.relu(X@W1)\n",
    "    act = act@W2 + bias\n",
    "    return torch.sigmoid(act)"
   ]
  },
  {
   "cell_type": "markdown",
   "metadata": {},
   "source": [
    "Finally, now that we have more than one set of coefficients, we need to add a loop to update each one:"
   ]
  },
  {
   "cell_type": "code",
   "execution_count": 251,
   "metadata": {
    "execution": {
     "iopub.execute_input": "2022-05-30T22:39:55.366945Z",
     "iopub.status.busy": "2022-05-30T22:39:55.3665Z",
     "iopub.status.idle": "2022-05-30T22:39:55.371578Z",
     "shell.execute_reply": "2022-05-30T22:39:55.370699Z",
     "shell.execute_reply.started": "2022-05-30T22:39:55.366914Z"
    }
   },
   "outputs": [],
   "source": [
    "def update_weights(Ws, lr):\n",
    "    for W in Ws:\n",
    "        W -= (W.grad * lr)\n",
    "        W.grad.zero_()"
   ]
  },
  {
   "cell_type": "markdown",
   "metadata": {},
   "source": [
    "Let's create the final *train()* function:"
   ]
  },
  {
   "cell_type": "code",
   "execution_count": 252,
   "metadata": {},
   "outputs": [],
   "source": [
    "def train(epochs=30, lr=.01):\n",
    "    torch.manual_seed(442)\n",
    "    W = init_weights()\n",
    "    for _ in range(epochs): one_epoch(W, lr=lr)\n",
    "    return W"
   ]
  },
  {
   "cell_type": "markdown",
   "metadata": {},
   "source": [
    "That's it -- we're now ready to train our model!"
   ]
  },
  {
   "cell_type": "code",
   "execution_count": 253,
   "metadata": {
    "execution": {
     "iopub.execute_input": "2022-05-30T22:39:58.189982Z",
     "iopub.status.busy": "2022-05-30T22:39:58.189651Z",
     "iopub.status.idle": "2022-05-30T22:39:58.227202Z",
     "shell.execute_reply": "2022-05-30T22:39:58.226226Z",
     "shell.execute_reply.started": "2022-05-30T22:39:58.189951Z"
    }
   },
   "outputs": [
    {
     "name": "stdout",
     "output_type": "stream",
     "text": [
      "0.544; 0.538; 0.532; 0.526; 0.519; 0.512; 0.504; 0.495; 0.486; 0.476; 0.465; 0.455; 0.444; 0.434; 0.426; 0.418; 0.412; 0.407; 0.403; 0.400; 0.397; 0.395; 0.393; 0.391; 0.390; 0.389; 0.388; 0.387; 0.387; 0.386; "
     ]
    }
   ],
   "source": [
    "W = train(lr=1.4)"
   ]
  },
  {
   "cell_type": "code",
   "execution_count": 254,
   "metadata": {
    "execution": {
     "iopub.execute_input": "2022-05-30T22:40:16.338016Z",
     "iopub.status.busy": "2022-05-30T22:40:16.337512Z",
     "iopub.status.idle": "2022-05-30T22:40:16.368327Z",
     "shell.execute_reply": "2022-05-30T22:40:16.367439Z",
     "shell.execute_reply.started": "2022-05-30T22:40:16.337959Z"
    }
   },
   "outputs": [
    {
     "name": "stdout",
     "output_type": "stream",
     "text": [
      "0.544; 0.464; 0.388; 0.382; 0.381; 0.380; 0.380; 0.380; 0.379; 0.379; 0.379; 0.379; 0.379; 0.379; 0.379; 0.379; 0.379; 0.379; 0.379; 0.379; 0.379; 0.379; 0.379; 0.379; 0.379; 0.379; 0.379; 0.379; 0.379; 0.379; "
     ]
    }
   ],
   "source": [
    "coeffs = train(lr=20)"
   ]
  },
  {
   "cell_type": "markdown",
   "metadata": {},
   "source": [
    "It's looking good -- our loss is lower than before. Let's see if that translates to a better result on the validation set:"
   ]
  },
  {
   "cell_type": "code",
   "execution_count": 257,
   "metadata": {},
   "outputs": [],
   "source": [
    "def acc(W): \n",
    "    y_hat = predict(W, X_val)\n",
    "    return (y_val.bool() == (y_hat > .5)).float().mean()"
   ]
  },
  {
   "cell_type": "code",
   "execution_count": 258,
   "metadata": {
    "execution": {
     "iopub.execute_input": "2022-05-30T22:40:18.644458Z",
     "iopub.status.busy": "2022-05-30T22:40:18.644153Z",
     "iopub.status.idle": "2022-05-30T22:40:18.651372Z",
     "shell.execute_reply": "2022-05-30T22:40:18.650102Z",
     "shell.execute_reply.started": "2022-05-30T22:40:18.644427Z"
    }
   },
   "outputs": [
    {
     "data": {
      "text/plain": [
       "tensor(0.5955)"
      ]
     },
     "execution_count": 258,
     "metadata": {},
     "output_type": "execute_result"
    }
   ],
   "source": [
    "acc(W)"
   ]
  },
  {
   "cell_type": "markdown",
   "metadata": {},
   "source": [
    "In this case our neural net isn't showing better results than the linear model. That's not surprising; this dataset is very small and very simple, and isn't the kind of thing we'd expect to see neural networks excel at. Furthermore, our validation set is too small to reliably see much accuracy difference. But the key thing is that we now know exactly what a real neural net looks like!"
   ]
  },
  {
   "cell_type": "markdown",
   "metadata": {},
   "source": [
    "## Deep learning\n",
    "\n",
    "The neural net in the previous section only uses one hidden layer, so it doesn't count as \"deep\" learning. But we can use the exact same technique to make our neural net deep, by adding more matrix multiplications.\n",
    "\n",
    "First, we'll need to create additional coefficients for each layer:"
   ]
  },
  {
   "cell_type": "code",
   "execution_count": 267,
   "metadata": {
    "execution": {
     "iopub.execute_input": "2022-05-30T22:40:55.255291Z",
     "iopub.status.busy": "2022-05-30T22:40:55.25457Z",
     "iopub.status.idle": "2022-05-30T22:40:55.261806Z",
     "shell.execute_reply": "2022-05-30T22:40:55.261271Z",
     "shell.execute_reply.started": "2022-05-30T22:40:55.255242Z"
    }
   },
   "outputs": [],
   "source": [
    "def init_weights():\n",
    "    hiddens = [10, 10]  # <-- set this to the size of each hidden layer you want\n",
    "    sizes = [features] + hiddens + [1]\n",
    "    n = len(sizes)\n",
    "    layers = [(torch.rand(sizes[i], sizes[i+1])-0.3)/sizes[i+1]*4 for i in range(n-1)]\n",
    "    consts = [(torch.rand(1)[0]-0.5)*0.1 for i in range(n-1)]\n",
    "    for l in layers+consts: l.requires_grad_()\n",
    "    return layers,consts"
   ]
  },
  {
   "cell_type": "markdown",
   "metadata": {},
   "source": [
    "You'll notice here that there's a lot of messy constants to get the random numbers in just the right ranges. When you train the model in a moment, you'll see that the tiniest changes to these initialisations can cause our model to fail to train at all! This is a key reason that deep learning failed to make much progress in the early days -- it's very finicky to get a good starting point for our coefficients. Nowadays, we have ways to deal with that, which we'll learn about in other notebooks.\n",
    "\n",
    "Our deep learning `calc_preds` looks much the same as before, but now we loop through each layer, instead of listing them separately:"
   ]
  },
  {
   "cell_type": "code",
   "execution_count": 268,
   "metadata": {
    "execution": {
     "iopub.execute_input": "2022-05-30T22:40:57.610974Z",
     "iopub.status.busy": "2022-05-30T22:40:57.610142Z",
     "iopub.status.idle": "2022-05-30T22:40:57.618154Z",
     "shell.execute_reply": "2022-05-30T22:40:57.617329Z",
     "shell.execute_reply.started": "2022-05-30T22:40:57.610916Z"
    }
   },
   "outputs": [],
   "source": [
    "import torch.nn.functional as F\n",
    "\n",
    "def predict(coeffs, indeps):\n",
    "    layers,consts = coeffs\n",
    "    n = len(layers)\n",
    "    res = indeps\n",
    "    for i,l in enumerate(layers):\n",
    "        res = res@l + consts[i]\n",
    "        if i!=n-1: res = F.relu(res)\n",
    "    return torch.sigmoid(res)"
   ]
  },
  {
   "cell_type": "markdown",
   "metadata": {},
   "source": [
    "We also need a minor update to `update_coeffs` since we've got `layers` and `consts` separated now:"
   ]
  },
  {
   "cell_type": "code",
   "execution_count": 269,
   "metadata": {
    "execution": {
     "iopub.execute_input": "2022-05-30T22:41:08.513049Z",
     "iopub.status.busy": "2022-05-30T22:41:08.512494Z",
     "iopub.status.idle": "2022-05-30T22:41:08.519219Z",
     "shell.execute_reply": "2022-05-30T22:41:08.518093Z",
     "shell.execute_reply.started": "2022-05-30T22:41:08.512999Z"
    }
   },
   "outputs": [],
   "source": [
    "def update_weights(coeffs, lr):\n",
    "    layers,consts = coeffs\n",
    "    for layer in layers+consts:\n",
    "        layer.sub_(layer.grad * lr)\n",
    "        layer.grad.zero_()"
   ]
  },
  {
   "cell_type": "markdown",
   "metadata": {},
   "source": [
    "Let's train our model..."
   ]
  },
  {
   "cell_type": "code",
   "execution_count": 270,
   "metadata": {
    "execution": {
     "iopub.execute_input": "2022-05-30T22:41:23.633004Z",
     "iopub.status.busy": "2022-05-30T22:41:23.632516Z",
     "iopub.status.idle": "2022-05-30T22:41:23.666981Z",
     "shell.execute_reply": "2022-05-30T22:41:23.666048Z",
     "shell.execute_reply.started": "2022-05-30T22:41:23.632953Z"
    }
   },
   "outputs": [
    {
     "name": "stdout",
     "output_type": "stream",
     "text": [
      "0.531; 0.484; 0.470; 0.457; 0.447; 0.437; 0.430; 0.424; 0.419; 0.414; 0.411; 0.408; 0.405; 0.403; 0.401; 0.400; 0.398; 0.397; 0.396; 0.395; 0.394; 0.393; 0.392; 0.392; 0.391; 0.391; 0.390; 0.390; 0.389; 0.389; "
     ]
    }
   ],
   "source": [
    "W = train(lr=4)"
   ]
  },
  {
   "cell_type": "markdown",
   "metadata": {},
   "source": [
    "...and check its accuracy:"
   ]
  },
  {
   "cell_type": "code",
   "execution_count": 272,
   "metadata": {
    "execution": {
     "iopub.execute_input": "2022-05-30T22:41:25.491182Z",
     "iopub.status.busy": "2022-05-30T22:41:25.490656Z",
     "iopub.status.idle": "2022-05-30T22:41:25.497888Z",
     "shell.execute_reply": "2022-05-30T22:41:25.49695Z",
     "shell.execute_reply.started": "2022-05-30T22:41:25.491146Z"
    }
   },
   "outputs": [
    {
     "data": {
      "text/plain": [
       "tensor(0.5955)"
      ]
     },
     "execution_count": 272,
     "metadata": {},
     "output_type": "execute_result"
    }
   ],
   "source": [
    "acc(W)"
   ]
  },
  {
   "cell_type": "markdown",
   "metadata": {},
   "source": [
    "## Final thoughts"
   ]
  },
  {
   "cell_type": "markdown",
   "metadata": {},
   "source": [
    "It's actually pretty cool that we've managed to create a real deep learning model from scratch and trained it to get over 80% accuracy on this task, all in the course of a single notebook!\n",
    "\n",
    "The \"real\" deep learning models that are used in research and industry look very similar to this, and in fact if you look inside the source code of any deep learning model you'll recognise the basic steps are the same.\n",
    "\n",
    "The biggest differences in practical models to what we have above are:\n",
    "\n",
    "- How initialisation and normalisation is done to ensure the model trains correctly every time\n",
    "- Regularization (to avoid over-fitting)\n",
    "- Modifying the neural net itself to take advantage of knowledge of the problem domain\n",
    "- Doing gradient descent steps on smaller batches, rather than the whole dataset.\n",
    "\n",
    "I'll be adding notebooks about all these later, and will add links here once they're ready.\n",
    "\n",
    "If you found this notebook useful, please remember to click the little up-arrow at the top to upvote it, since I like to know when people have found my work useful, and it helps others find it too. (BTW, be sure you're looking at my [original notebook here](https://www.kaggle.com/code/jhoward/linear-model-and-neural-net-from-scratch) when you do that, and are not on your own copy of it, otherwise your upvote won't get counted!) And if you have any questions or comments, please pop them below -- I read every comment I receive!"
   ]
  },
  {
   "cell_type": "markdown",
   "metadata": {},
   "source": [
    "---"
   ]
  }
 ],
 "metadata": {
  "kernelspec": {
   "display_name": "Python 3 (ipykernel)",
   "language": "python",
   "name": "python3"
  },
  "language_info": {
   "codemirror_mode": {
    "name": "ipython",
    "version": 3
   },
   "file_extension": ".py",
   "mimetype": "text/x-python",
   "name": "python",
   "nbconvert_exporter": "python",
   "pygments_lexer": "ipython3",
   "version": "3.10.8"
  }
 },
 "nbformat": 4,
 "nbformat_minor": 4
}
